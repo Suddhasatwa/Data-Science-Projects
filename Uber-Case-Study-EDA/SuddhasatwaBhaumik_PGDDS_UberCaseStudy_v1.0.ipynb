{
 "cells": [
  {
   "cell_type": "markdown",
   "metadata": {},
   "source": [
    "### Basic Data Checks"
   ]
  },
  {
   "cell_type": "code",
   "execution_count": 208,
   "metadata": {
    "collapsed": false
   },
   "outputs": [
    {
     "name": "stdout",
     "output_type": "stream",
     "text": [
      "basic statistics: \n",
      "        Request id    Driver id\n",
      "count  6745.000000  4095.000000\n",
      "mean   3384.644922   149.501343\n",
      "std    1955.099667    86.051994\n",
      "min       1.000000     1.000000\n",
      "25%    1691.000000    75.000000\n",
      "50%    3387.000000   149.000000\n",
      "75%    5080.000000   224.000000\n",
      "max    6766.000000   300.000000\n",
      "\n",
      "data types: \n",
      "Request id             int64\n",
      "Pickup point          object\n",
      "Driver id            float64\n",
      "Status                object\n",
      "Request timestamp     object\n",
      "Drop timestamp        object\n",
      "dtype: object\n",
      "\n",
      "20 Sample rows: \n",
      "    Request id Pickup point  Driver id          Status    Request timestamp  \\\n",
      "0          619      Airport        1.0  Trip Completed      11/7/2016 11:51   \n",
      "1          867      Airport        1.0  Trip Completed      11/7/2016 17:57   \n",
      "2         1807         City        1.0  Trip Completed       12/7/2016 9:17   \n",
      "3         2532      Airport        1.0  Trip Completed      12/7/2016 21:08   \n",
      "4         3112         City        1.0  Trip Completed  13-07-2016 08:33:16   \n",
      "5         3879      Airport        1.0  Trip Completed  13-07-2016 21:57:28   \n",
      "6         4270      Airport        1.0  Trip Completed  14-07-2016 06:15:32   \n",
      "7         5510      Airport        1.0  Trip Completed  15-07-2016 05:11:52   \n",
      "8         6248         City        1.0  Trip Completed  15-07-2016 17:57:27   \n",
      "9          267         City        2.0  Trip Completed       11/7/2016 6:46   \n",
      "10        1467      Airport        2.0  Trip Completed       12/7/2016 5:08   \n",
      "11        1983         City        2.0  Trip Completed      12/7/2016 12:30   \n",
      "12        2784      Airport        2.0  Trip Completed  13-07-2016 04:49:20   \n",
      "13        3075         City        2.0  Trip Completed  13-07-2016 08:02:53   \n",
      "14        3379         City        2.0  Trip Completed  13-07-2016 14:23:02   \n",
      "15        3482      Airport        2.0  Trip Completed  13-07-2016 17:23:18   \n",
      "16        4652         City        2.0  Trip Completed  14-07-2016 12:01:02   \n",
      "17        5335      Airport        2.0  Trip Completed  14-07-2016 22:24:13   \n",
      "18         535      Airport        3.0  Trip Completed      11/7/2016 10:00   \n",
      "19         960      Airport        3.0  Trip Completed      11/7/2016 18:45   \n",
      "\n",
      "         Drop timestamp  \n",
      "0       11/7/2016 13:00  \n",
      "1       11/7/2016 18:47  \n",
      "2        12/7/2016 9:58  \n",
      "3       12/7/2016 22:03  \n",
      "4   13-07-2016 09:25:47  \n",
      "5   13-07-2016 22:28:59  \n",
      "6   14-07-2016 07:13:15  \n",
      "7   15-07-2016 06:07:52  \n",
      "8   15-07-2016 18:50:51  \n",
      "9        11/7/2016 7:25  \n",
      "10       12/7/2016 6:02  \n",
      "11      12/7/2016 12:57  \n",
      "12  13-07-2016 05:23:03  \n",
      "13  13-07-2016 09:16:19  \n",
      "14  13-07-2016 15:35:18  \n",
      "15  13-07-2016 18:20:51  \n",
      "16  14-07-2016 12:36:46  \n",
      "17  14-07-2016 23:18:52  \n",
      "18      11/7/2016 10:31  \n",
      "19      11/7/2016 19:23  \n",
      "\n",
      "Count of Records per Pickup Point: \n",
      "Pickup point\n",
      "Airport    3238\n",
      "City       3507\n",
      "Name: Request id, dtype: int64\n",
      "\n",
      "Count of Records Per Status: \n",
      "Status\n",
      "Cancelled            1264\n",
      "No Cars Available    2650\n",
      "Trip Completed       2831\n",
      "Name: Request id, dtype: int64\n",
      "\n"
     ]
    }
   ],
   "source": [
    "'''\n",
    "Import pandas library\n",
    "Using which we load the data for basic information. \n",
    "'''\n",
    "import pandas as pd\n",
    "\n",
    "'''\n",
    "Assumption: Data file kept in the same location of this notebook. \n",
    "'''\n",
    "uber_raw_data = pd.read_csv(\"Uber Request Data.csv\")\n",
    "\n",
    "'''\n",
    "check basic statistics of the raw data. \n",
    "'''\n",
    "print(\"basic statistics: \")\n",
    "print(uber_raw_data.describe())\n",
    "print()\n",
    "\n",
    "'''\n",
    "Check Data Types\n",
    "'''\n",
    "print(\"data types: \")\n",
    "print(uber_raw_data.dtypes)\n",
    "print()\n",
    "\n",
    "'''\n",
    "check sample 20 rows to understand data issues and values in available columns. \n",
    "'''\n",
    "print(\"20 Sample rows: \")\n",
    "print(uber_raw_data.head(20))\n",
    "print()\n",
    "\n",
    "'''\n",
    "check count of records per pickup point. \n",
    "'''\n",
    "print(\"Count of Records per Pickup Point: \")\n",
    "print(uber_raw_data.groupby(['Pickup point'])['Request id'].count())\n",
    "print()\n",
    "\n",
    "'''\n",
    "check count of records per Status\n",
    "''' \n",
    "print(\"Count of Records Per Status: \")\n",
    "print(uber_raw_data.groupby(['Status'])['Request id'].count())\n",
    "print()\n"
   ]
  },
  {
   "cell_type": "markdown",
   "metadata": {},
   "source": [
    "### Cleaning Data - Round # 1"
   ]
  },
  {
   "cell_type": "code",
   "execution_count": 209,
   "metadata": {
    "collapsed": false
   },
   "outputs": [
    {
     "name": "stdout",
     "output_type": "stream",
     "text": [
      "After Initial Cleaning: \n",
      "\n",
      "Request id                    int64\n",
      "Pickup point                 object\n",
      "Driver id                   float64\n",
      "Status                       object\n",
      "Request timestamp    datetime64[ns]\n",
      "Drop timestamp       datetime64[ns]\n",
      "dtype: object \n",
      "\n",
      "Sample 20 Records after Date Time conversions: \n",
      "\n",
      "    Request id Pickup point  Driver id          Status   Request timestamp  \\\n",
      "0          619      Airport        1.0  Trip Completed 2016-07-11 11:51:00   \n",
      "1          867      Airport        1.0  Trip Completed 2016-07-11 17:57:00   \n",
      "2         1807         City        1.0  Trip Completed 2016-07-12 09:17:00   \n",
      "3         2532      Airport        1.0  Trip Completed 2016-07-12 21:08:00   \n",
      "4         3112         City        1.0  Trip Completed 2016-07-13 08:33:16   \n",
      "5         3879      Airport        1.0  Trip Completed 2016-07-13 21:57:28   \n",
      "6         4270      Airport        1.0  Trip Completed 2016-07-14 06:15:32   \n",
      "7         5510      Airport        1.0  Trip Completed 2016-07-15 05:11:52   \n",
      "8         6248         City        1.0  Trip Completed 2016-07-15 17:57:27   \n",
      "9          267         City        2.0  Trip Completed 2016-07-11 06:46:00   \n",
      "10        1467      Airport        2.0  Trip Completed 2016-07-12 05:08:00   \n",
      "11        1983         City        2.0  Trip Completed 2016-07-12 12:30:00   \n",
      "12        2784      Airport        2.0  Trip Completed 2016-07-13 04:49:20   \n",
      "13        3075         City        2.0  Trip Completed 2016-07-13 08:02:53   \n",
      "14        3379         City        2.0  Trip Completed 2016-07-13 14:23:02   \n",
      "15        3482      Airport        2.0  Trip Completed 2016-07-13 17:23:18   \n",
      "16        4652         City        2.0  Trip Completed 2016-07-14 12:01:02   \n",
      "17        5335      Airport        2.0  Trip Completed 2016-07-14 22:24:13   \n",
      "18         535      Airport        3.0  Trip Completed 2016-07-11 10:00:00   \n",
      "19         960      Airport        3.0  Trip Completed 2016-07-11 18:45:00   \n",
      "\n",
      "        Drop timestamp  \n",
      "0  2016-07-11 13:00:00  \n",
      "1  2016-07-11 18:47:00  \n",
      "2  2016-07-12 09:58:00  \n",
      "3  2016-07-12 22:03:00  \n",
      "4  2016-07-13 09:25:47  \n",
      "5  2016-07-13 22:28:59  \n",
      "6  2016-07-14 07:13:15  \n",
      "7  2016-07-15 06:07:52  \n",
      "8  2016-07-15 18:50:51  \n",
      "9  2016-07-11 07:25:00  \n",
      "10 2016-07-12 06:02:00  \n",
      "11 2016-07-12 12:57:00  \n",
      "12 2016-07-13 05:23:03  \n",
      "13 2016-07-13 09:16:19  \n",
      "14 2016-07-13 15:35:18  \n",
      "15 2016-07-13 18:20:51  \n",
      "16 2016-07-14 12:36:46  \n",
      "17 2016-07-14 23:18:52  \n",
      "18 2016-07-11 10:31:00  \n",
      "19 2016-07-11 19:23:00  \n"
     ]
    }
   ],
   "source": [
    "'''\n",
    "Initial set of data cleaning. \n",
    "Simply convert the date/time columns from String to Date Time. \n",
    "'''\n",
    "\n",
    "uber_data_with_dtime = pd.DataFrame(uber_raw_data)\n",
    "uber_data_with_dtime['Request timestamp'] = pd.to_datetime(uber_data_with_dtime['Request timestamp'],dayfirst=True)\n",
    "uber_data_with_dtime['Drop timestamp'] = pd.to_datetime(uber_data_with_dtime['Drop timestamp'],dayfirst=True)\n",
    "\n",
    "'''\n",
    "Verify if the datatype is now Datetime for Date/Time columns\n",
    "'''\n",
    "print(\"After Initial Cleaning: \\n\")\n",
    "print(uber_data_with_dtime.dtypes,\"\\n\")\n",
    "\n",
    "'''\n",
    "print sample of 20 records to check data itself as well. \n",
    "'''\n",
    "print(\"Sample 20 Records after Date Time conversions: \\n\")\n",
    "print(uber_data_with_dtime.head(20))\n"
   ]
  },
  {
   "cell_type": "markdown",
   "metadata": {},
   "source": [
    "### Visualizing Trends - Round # 1"
   ]
  },
  {
   "cell_type": "code",
   "execution_count": 210,
   "metadata": {
    "collapsed": false
   },
   "outputs": [
    {
     "data": {
      "image/png": "[encoded data removed]",
      "text/plain": [
       "<Figure size 432x288 with 1 Axes>"
      ]
     },
     "metadata": {},
     "output_type": "display_data"
    }
   ],
   "source": [
    "'''\n",
    "Understanding the data based on Status of Trips. \n",
    "'''\n",
    "\n",
    "'''\n",
    "import the required libraries\n",
    "'''\n",
    "import matplotlib.pyplot as plt\n",
    "import seaborn as sns\n",
    "import numpy as np\n",
    "%matplotlib inline\n",
    "\n",
    "'''\n",
    "creating variables for status Types and counts of each type\n",
    "to create a bar chart to understand the variety of statuses. \n",
    "'''\n",
    "count_of_distinct_status = np.arange(len(uber_data_with_dtime.Status.unique()))\n",
    "status_types = tuple(uber_data_with_dtime.Status.unique())\n",
    "status_types_counts = list(uber_data_with_dtime.groupby(['Status']).count()['Request id'])\n",
    "\n",
    "'''\n",
    "plot the bar chart\n",
    "'''\n",
    "plt.bar(count_of_distinct_status, status_types_counts, align='center', alpha=1)\n",
    "plt.xticks(count_of_distinct_status, status_types)\n",
    "plt.ylabel('Count of Trips')\n",
    "plt.title('Trips Per Status Codes')\n",
    "plt.show()\n"
   ]
  },
  {
   "cell_type": "code",
   "execution_count": 211,
   "metadata": {
    "collapsed": false
   },
   "outputs": [
    {
     "data": {
      "image/png": "[encoded data removed]",
      "text/plain": [
       "<Figure size 432x288 with 1 Axes>"
      ]
     },
     "metadata": {},
     "output_type": "display_data"
    }
   ],
   "source": [
    "'''\n",
    "Understanding the data based on Pickup Point of Trips. \n",
    "'''\n",
    "\n",
    "'''\n",
    "import the required libraries\n",
    "'''\n",
    "import matplotlib.pyplot as plt\n",
    "import seaborn as sns\n",
    "import numpy as np\n",
    "%matplotlib inline\n",
    "\n",
    "'''\n",
    "creating variables for status Types and counts of each type\n",
    "to create a bar chart to understand the variety of statuses. \n",
    "'''\n",
    "count_of_distinct_trips = np.arange(len(uber_data_with_dtime['Pickup point'].unique()))\n",
    "trip_types = tuple(uber_data_with_dtime['Pickup point'].unique())\n",
    "trip_types_counts = list(uber_data_with_dtime.groupby(['Pickup point']).count()['Request id'])\n",
    "\n",
    "'''\n",
    "plot the bar chart\n",
    "'''\n",
    "plt.bar(count_of_distinct_trips, trip_types_counts, align='center', alpha=1)\n",
    "plt.xticks(count_of_distinct_trips, trip_types)\n",
    "plt.ylabel('Number of Trips')\n",
    "plt.title('Trips per Pickup Points')\n",
    "plt.show()\n"
   ]
  },
  {
   "cell_type": "markdown",
   "metadata": {},
   "source": [
    "### Cleaning Data - Round # 2"
   ]
  },
  {
   "cell_type": "code",
   "execution_count": 212,
   "metadata": {
    "collapsed": false
   },
   "outputs": [
    {
     "data": {
      "text/html": [
       "<div>\n",
       "<style scoped>\n",
       "    .dataframe tbody tr th:only-of-type {\n",
       "        vertical-align: middle;\n",
       "    }\n",
       "\n",
       "    .dataframe tbody tr th {\n",
       "        vertical-align: top;\n",
       "    }\n",
       "\n",
       "    .dataframe thead th {\n",
       "        text-align: right;\n",
       "    }\n",
       "</style>\n",
       "<table border=\"1\" class=\"dataframe\">\n",
       "  <thead>\n",
       "    <tr style=\"text-align: right;\">\n",
       "      <th></th>\n",
       "      <th>Request id</th>\n",
       "      <th>Pickup point</th>\n",
       "      <th>Driver id</th>\n",
       "      <th>Status</th>\n",
       "      <th>Request timestamp</th>\n",
       "      <th>Drop timestamp</th>\n",
       "      <th>year</th>\n",
       "      <th>month</th>\n",
       "      <th>day</th>\n",
       "      <th>hour</th>\n",
       "      <th>date</th>\n",
       "      <th>day_name</th>\n",
       "      <th>month_name</th>\n",
       "    </tr>\n",
       "  </thead>\n",
       "  <tbody>\n",
       "    <tr>\n",
       "      <th>0</th>\n",
       "      <td>619</td>\n",
       "      <td>Airport</td>\n",
       "      <td>1.0</td>\n",
       "      <td>Trip Completed</td>\n",
       "      <td>2016-07-11 11:51:00</td>\n",
       "      <td>2016-07-11 13:00:00</td>\n",
       "      <td>2016</td>\n",
       "      <td>7</td>\n",
       "      <td>11</td>\n",
       "      <td>11</td>\n",
       "      <td>2016-07-11</td>\n",
       "      <td>Monday</td>\n",
       "      <td>July</td>\n",
       "    </tr>\n",
       "    <tr>\n",
       "      <th>1</th>\n",
       "      <td>867</td>\n",
       "      <td>Airport</td>\n",
       "      <td>1.0</td>\n",
       "      <td>Trip Completed</td>\n",
       "      <td>2016-07-11 17:57:00</td>\n",
       "      <td>2016-07-11 18:47:00</td>\n",
       "      <td>2016</td>\n",
       "      <td>7</td>\n",
       "      <td>11</td>\n",
       "      <td>17</td>\n",
       "      <td>2016-07-11</td>\n",
       "      <td>Monday</td>\n",
       "      <td>July</td>\n",
       "    </tr>\n",
       "    <tr>\n",
       "      <th>2</th>\n",
       "      <td>1807</td>\n",
       "      <td>City</td>\n",
       "      <td>1.0</td>\n",
       "      <td>Trip Completed</td>\n",
       "      <td>2016-07-12 09:17:00</td>\n",
       "      <td>2016-07-12 09:58:00</td>\n",
       "      <td>2016</td>\n",
       "      <td>7</td>\n",
       "      <td>12</td>\n",
       "      <td>9</td>\n",
       "      <td>2016-07-12</td>\n",
       "      <td>Tuesday</td>\n",
       "      <td>July</td>\n",
       "    </tr>\n",
       "    <tr>\n",
       "      <th>3</th>\n",
       "      <td>2532</td>\n",
       "      <td>Airport</td>\n",
       "      <td>1.0</td>\n",
       "      <td>Trip Completed</td>\n",
       "      <td>2016-07-12 21:08:00</td>\n",
       "      <td>2016-07-12 22:03:00</td>\n",
       "      <td>2016</td>\n",
       "      <td>7</td>\n",
       "      <td>12</td>\n",
       "      <td>21</td>\n",
       "      <td>2016-07-12</td>\n",
       "      <td>Tuesday</td>\n",
       "      <td>July</td>\n",
       "    </tr>\n",
       "    <tr>\n",
       "      <th>4</th>\n",
       "      <td>3112</td>\n",
       "      <td>City</td>\n",
       "      <td>1.0</td>\n",
       "      <td>Trip Completed</td>\n",
       "      <td>2016-07-13 08:33:16</td>\n",
       "      <td>2016-07-13 09:25:47</td>\n",
       "      <td>2016</td>\n",
       "      <td>7</td>\n",
       "      <td>13</td>\n",
       "      <td>8</td>\n",
       "      <td>2016-07-13</td>\n",
       "      <td>Wednesday</td>\n",
       "      <td>July</td>\n",
       "    </tr>\n",
       "    <tr>\n",
       "      <th>5</th>\n",
       "      <td>3879</td>\n",
       "      <td>Airport</td>\n",
       "      <td>1.0</td>\n",
       "      <td>Trip Completed</td>\n",
       "      <td>2016-07-13 21:57:28</td>\n",
       "      <td>2016-07-13 22:28:59</td>\n",
       "      <td>2016</td>\n",
       "      <td>7</td>\n",
       "      <td>13</td>\n",
       "      <td>21</td>\n",
       "      <td>2016-07-13</td>\n",
       "      <td>Wednesday</td>\n",
       "      <td>July</td>\n",
       "    </tr>\n",
       "    <tr>\n",
       "      <th>6</th>\n",
       "      <td>4270</td>\n",
       "      <td>Airport</td>\n",
       "      <td>1.0</td>\n",
       "      <td>Trip Completed</td>\n",
       "      <td>2016-07-14 06:15:32</td>\n",
       "      <td>2016-07-14 07:13:15</td>\n",
       "      <td>2016</td>\n",
       "      <td>7</td>\n",
       "      <td>14</td>\n",
       "      <td>6</td>\n",
       "      <td>2016-07-14</td>\n",
       "      <td>Thursday</td>\n",
       "      <td>July</td>\n",
       "    </tr>\n",
       "    <tr>\n",
       "      <th>7</th>\n",
       "      <td>5510</td>\n",
       "      <td>Airport</td>\n",
       "      <td>1.0</td>\n",
       "      <td>Trip Completed</td>\n",
       "      <td>2016-07-15 05:11:52</td>\n",
       "      <td>2016-07-15 06:07:52</td>\n",
       "      <td>2016</td>\n",
       "      <td>7</td>\n",
       "      <td>15</td>\n",
       "      <td>5</td>\n",
       "      <td>2016-07-15</td>\n",
       "      <td>Friday</td>\n",
       "      <td>July</td>\n",
       "    </tr>\n",
       "    <tr>\n",
       "      <th>8</th>\n",
       "      <td>6248</td>\n",
       "      <td>City</td>\n",
       "      <td>1.0</td>\n",
       "      <td>Trip Completed</td>\n",
       "      <td>2016-07-15 17:57:27</td>\n",
       "      <td>2016-07-15 18:50:51</td>\n",
       "      <td>2016</td>\n",
       "      <td>7</td>\n",
       "      <td>15</td>\n",
       "      <td>17</td>\n",
       "      <td>2016-07-15</td>\n",
       "      <td>Friday</td>\n",
       "      <td>July</td>\n",
       "    </tr>\n",
       "    <tr>\n",
       "      <th>9</th>\n",
       "      <td>267</td>\n",
       "      <td>City</td>\n",
       "      <td>2.0</td>\n",
       "      <td>Trip Completed</td>\n",
       "      <td>2016-07-11 06:46:00</td>\n",
       "      <td>2016-07-11 07:25:00</td>\n",
       "      <td>2016</td>\n",
       "      <td>7</td>\n",
       "      <td>11</td>\n",
       "      <td>6</td>\n",
       "      <td>2016-07-11</td>\n",
       "      <td>Monday</td>\n",
       "      <td>July</td>\n",
       "    </tr>\n",
       "  </tbody>\n",
       "</table>\n",
       "</div>"
      ],
      "text/plain": [
       "   Request id Pickup point  Driver id          Status   Request timestamp  \\\n",
       "0         619      Airport        1.0  Trip Completed 2016-07-11 11:51:00   \n",
       "1         867      Airport        1.0  Trip Completed 2016-07-11 17:57:00   \n",
       "2        1807         City        1.0  Trip Completed 2016-07-12 09:17:00   \n",
       "3        2532      Airport        1.0  Trip Completed 2016-07-12 21:08:00   \n",
       "4        3112         City        1.0  Trip Completed 2016-07-13 08:33:16   \n",
       "5        3879      Airport        1.0  Trip Completed 2016-07-13 21:57:28   \n",
       "6        4270      Airport        1.0  Trip Completed 2016-07-14 06:15:32   \n",
       "7        5510      Airport        1.0  Trip Completed 2016-07-15 05:11:52   \n",
       "8        6248         City        1.0  Trip Completed 2016-07-15 17:57:27   \n",
       "9         267         City        2.0  Trip Completed 2016-07-11 06:46:00   \n",
       "\n",
       "       Drop timestamp  year  month  day  hour        date   day_name  \\\n",
       "0 2016-07-11 13:00:00  2016      7   11    11  2016-07-11     Monday   \n",
       "1 2016-07-11 18:47:00  2016      7   11    17  2016-07-11     Monday   \n",
       "2 2016-07-12 09:58:00  2016      7   12     9  2016-07-12    Tuesday   \n",
       "3 2016-07-12 22:03:00  2016      7   12    21  2016-07-12    Tuesday   \n",
       "4 2016-07-13 09:25:47  2016      7   13     8  2016-07-13  Wednesday   \n",
       "5 2016-07-13 22:28:59  2016      7   13    21  2016-07-13  Wednesday   \n",
       "6 2016-07-14 07:13:15  2016      7   14     6  2016-07-14   Thursday   \n",
       "7 2016-07-15 06:07:52  2016      7   15     5  2016-07-15     Friday   \n",
       "8 2016-07-15 18:50:51  2016      7   15    17  2016-07-15     Friday   \n",
       "9 2016-07-11 07:25:00  2016      7   11     6  2016-07-11     Monday   \n",
       "\n",
       "  month_name  \n",
       "0       July  \n",
       "1       July  \n",
       "2       July  \n",
       "3       July  \n",
       "4       July  \n",
       "5       July  \n",
       "6       July  \n",
       "7       July  \n",
       "8       July  \n",
       "9       July  "
      ]
     },
     "execution_count": 212,
     "metadata": {},
     "output_type": "execute_result"
    }
   ],
   "source": [
    "'''\n",
    "From the date/time fields we now extract the date, hour, year and month variables \n",
    "these can be used for further analysis. \n",
    "'''\n",
    "\n",
    "uber_data_with_dtime['year'] = uber_data_with_dtime['Request timestamp'].apply(lambda x: x.year)\n",
    "uber_data_with_dtime['month'] = uber_data_with_dtime['Request timestamp'].apply(lambda x: x.month)\n",
    "uber_data_with_dtime['day'] = uber_data_with_dtime['Request timestamp'].apply(lambda x: x.day)\n",
    "uber_data_with_dtime['hour'] = uber_data_with_dtime['Request timestamp'].apply(lambda x: x.hour)\n",
    "uber_data_with_dtime['date'] = uber_data_with_dtime['Request timestamp'].apply(lambda x: x.date())\n",
    "uber_data_with_dtime['day_name'] = uber_data_with_dtime['Request timestamp'].apply(lambda x: x.day_name())\n",
    "uber_data_with_dtime['month_name'] = uber_data_with_dtime['Request timestamp'].apply(lambda x: x.month_name())\n",
    "\n",
    "'''\n",
    "Checking sample of the data post changes. \n",
    "'''\n",
    "uber_data_with_dtime.head(10)\n"
   ]
  },
  {
   "cell_type": "markdown",
   "metadata": {},
   "source": [
    "### Visualizing Trends - Round # 2"
   ]
  },
  {
   "cell_type": "code",
   "execution_count": 213,
   "metadata": {
    "collapsed": false
   },
   "outputs": [
    {
     "data": {
      "image/png": "[encoded data removed]",
      "text/plain": [
       "<Figure size 432x288 with 1 Axes>"
      ]
     },
     "metadata": {},
     "output_type": "display_data"
    }
   ],
   "source": [
    "'''\n",
    "Find for which month most number of cancellations happened. \n",
    "'''\n",
    "\n",
    "'''\n",
    "create dataframe with only the cancelled trips information\n",
    "'''\n",
    "cancelled_trips = uber_data_with_dtime[uber_data_with_dtime['Status'] == \"Cancelled\"]\n",
    "\n",
    "'''\n",
    "check the count of records for cancellation. \n",
    "'''\n",
    "cancelled_trips.count()\n",
    "\n",
    "'''\n",
    "creating variables for status Types and counts of each type\n",
    "to create a bar chart to understand the variety of statuses. \n",
    "'''\n",
    "count_of_distinct_trips = np.arange(len(cancelled_trips['month_name'].unique()))\n",
    "trip_types = tuple(cancelled_trips['month_name'].unique())\n",
    "trip_types_counts = list(cancelled_trips.groupby(['month_name']).count()['Request id'])\n",
    "\n",
    "'''\n",
    "plot the bar chart\n",
    "'''\n",
    "plt.bar(count_of_distinct_trips, trip_types_counts, align='center', alpha=1)\n",
    "plt.xticks(count_of_distinct_trips, trip_types)\n",
    "plt.ylabel('Number of Trips')\n",
    "plt.title('Trips Cancelled Per month')\n",
    "plt.show()"
   ]
  },
  {
   "cell_type": "code",
   "execution_count": 223,
   "metadata": {
    "collapsed": false
   },
   "outputs": [
    {
     "data": {
      "image/png": "[encoded data removed]",
      "text/plain": [
       "<Figure size 432x288 with 1 Axes>"
      ]
     },
     "metadata": {},
     "output_type": "display_data"
    }
   ],
   "source": [
    "'''\n",
    "Find for which month and which particular day, if any, for July month\n",
    "when most number of cancellations happened. \n",
    "'''\n",
    "\n",
    "'''\n",
    "create dataframe with only the cancelled trips information\n",
    "'''\n",
    "cancelled_trips = uber_data_with_dtime[uber_data_with_dtime['Status'] == \"Cancelled\"]\n",
    "cancelled_trips = cancelled_trips[cancelled_trips.month_name == \"July\"]\n",
    "\n",
    "'''\n",
    "check the count of records for cancellation. \n",
    "'''\n",
    "cancelled_trips.count()\n",
    "\n",
    "'''\n",
    "creating variables for status Types and counts of each type\n",
    "to create a bar chart to understand the variety of statuses. \n",
    "'''\n",
    "count_of_distinct_trips = np.arange(len(cancelled_trips['day_name'].unique()))\n",
    "trip_types = tuple(cancelled_trips['day_name'].unique())\n",
    "trip_types_counts = list(cancelled_trips.groupby(['day_name']).count()['Request id'])\n",
    "\n",
    "'''\n",
    "plot the bar chart\n",
    "'''\n",
    "plt.bar(count_of_distinct_trips, trip_types_counts, align='center', alpha=1)\n",
    "plt.xticks(count_of_distinct_trips, trip_types)\n",
    "plt.ylabel('Number of Trips')\n",
    "plt.title('Trips Cancelled Per Day')\n",
    "plt.show()\n"
   ]
  },
  {
   "cell_type": "code",
   "execution_count": 234,
   "metadata": {
    "collapsed": false
   },
   "outputs": [
    {
     "data": {
      "image/png": "[encoded data removed]",
      "text/plain": [
       "<Figure size 432x288 with 1 Axes>"
      ]
     },
     "metadata": {},
     "output_type": "display_data"
    }
   ],
   "source": [
    "'''\n",
    "Find for which month and which particular hour, if any, on July month on Monday \n",
    "when most number of cancellations happened. \n",
    "'''\n",
    "\n",
    "'''\n",
    "create dataframe with only the cancelled trips information\n",
    "'''\n",
    "cancelled_trips = uber_data_with_dtime[uber_data_with_dtime['Status'] == \"Cancelled\"]\n",
    "cancelled_trips = cancelled_trips[cancelled_trips.month_name == \"July\"]\n",
    "cancelled_trips = cancelled_trips[cancelled_trips.day_name == \"Monday\"]\n",
    "\n",
    "'''\n",
    "check the count of records for cancellation. \n",
    "'''\n",
    "cancelled_trips.count()\n",
    "\n",
    "'''\n",
    "creating variables for status Types and counts of each type\n",
    "to create a bar chart to understand the variety of statuses. \n",
    "'''\n",
    "count_of_distinct_trips = np.sort(np.arange(len(cancelled_trips['hour'].unique())))\n",
    "trip_types = tuple(cancelled_trips['hour'].unique())\n",
    "trip_types_counts = list(cancelled_trips.groupby(['hour']).count()['Request id'])\n",
    "\n",
    "'''\n",
    "plot the bar chart\n",
    "'''\n",
    "plt.bar(count_of_distinct_trips, trip_types_counts, align='center', alpha=1)\n",
    "plt.xticks(count_of_distinct_trips, trip_types)\n",
    "plt.ylabel('Number of Trips')\n",
    "plt.title('Trips Cancelled Per hour number')\n",
    "plt.show()"
   ]
  },
  {
   "cell_type": "code",
   "execution_count": 235,
   "metadata": {
    "collapsed": false
   },
   "outputs": [
    {
     "data": {
      "image/png": "[encoded data removed]",
      "text/plain": [
       "<Figure size 432x288 with 1 Axes>"
      ]
     },
     "metadata": {},
     "output_type": "display_data"
    }
   ],
   "source": [
    "'''\n",
    "Find for which month and which particular hour, if any, on July month of Mondays \n",
    "when most number of cancellations happened where pickup was from City\n",
    "'''\n",
    "\n",
    "'''\n",
    "create dataframe with only the cancelled trips information\n",
    "'''\n",
    "cancelled_trips = uber_data_with_dtime[uber_data_with_dtime['Status'] == \"Cancelled\"]\n",
    "cancelled_trips = cancelled_trips[cancelled_trips.month_name == \"July\"]\n",
    "cancelled_trips = cancelled_trips[cancelled_trips.day_name == \"Monday\"]\n",
    "cancelled_trips = cancelled_trips[cancelled_trips['Pickup point'] == \"City\"]\n",
    "\n",
    "'''\n",
    "check the count of records for cancellation. \n",
    "'''\n",
    "cancelled_trips.count()\n",
    "\n",
    "'''\n",
    "creating variables for status Types and counts of each type\n",
    "to create a bar chart to understand the variety of statuses. \n",
    "'''\n",
    "count_of_distinct_trips = np.sort(np.arange(len(cancelled_trips['hour'].unique())))\n",
    "trip_types = tuple(cancelled_trips['hour'].unique())\n",
    "trip_types_counts = list(cancelled_trips.groupby(['hour']).count()['Request id'])\n",
    "\n",
    "'''\n",
    "plot the bar chart\n",
    "'''\n",
    "plt.bar(count_of_distinct_trips, trip_types_counts, align='center', alpha=1)\n",
    "plt.xticks(count_of_distinct_trips, trip_types)\n",
    "plt.ylabel('Number of Trips')\n",
    "plt.title('Trips Cancelled Per hour number (From City)')\n",
    "plt.show()"
   ]
  },
  {
   "cell_type": "code",
   "execution_count": 226,
   "metadata": {
    "collapsed": false
   },
   "outputs": [
    {
     "data": {
      "image/png": "[encoded data removed]",
      "text/plain": [
       "<Figure size 432x288 with 1 Axes>"
      ]
     },
     "metadata": {},
     "output_type": "display_data"
    }
   ],
   "source": [
    "'''\n",
    "Find for which month and which particular hour, if any, on July month of Mondays \n",
    "when most number of cancellations happened where pickup was from Airport\n",
    "'''\n",
    "\n",
    "'''\n",
    "create dataframe with only the cancelled trips information\n",
    "'''\n",
    "cancelled_trips = uber_data_with_dtime[uber_data_with_dtime['Status'] == \"Cancelled\"]\n",
    "cancelled_trips = cancelled_trips[cancelled_trips.month_name == \"July\"]\n",
    "cancelled_trips = cancelled_trips[cancelled_trips.day_name == \"Monday\"]\n",
    "cancelled_trips = cancelled_trips[cancelled_trips['Pickup point'] == \"Airport\"]\n",
    "\n",
    "'''\n",
    "check the count of records for cancellation. \n",
    "'''\n",
    "cancelled_trips.count()\n",
    "\n",
    "'''\n",
    "sort the cancelled_trips dataframe as per hour number\n",
    "''' \n",
    "cancelled_trips.sort_values(by=['hour'])\n",
    "\n",
    "'''\n",
    "creating variables for status Types and counts of each type\n",
    "to create a bar chart to understand the variety of statuses. \n",
    "'''\n",
    "count_of_distinct_trips = np.sort(np.arange(len(cancelled_trips['hour'].unique())))\n",
    "trip_types = tuple(cancelled_trips['hour'].unique())\n",
    "trip_types_counts = list(cancelled_trips.groupby(['hour']).count()['Request id'])\n",
    "\n",
    "'''\n",
    "plot the bar chart\n",
    "'''\n",
    "plt.bar(count_of_distinct_trips, trip_types_counts, align='center', alpha=1)\n",
    "plt.xticks(count_of_distinct_trips, trip_types)\n",
    "plt.ylabel('Number of Trips')\n",
    "plt.title('Trips Cancelled Per hour number (From Airport)')\n",
    "plt.show()"
   ]
  },
  {
   "cell_type": "code",
   "execution_count": 227,
   "metadata": {
    "collapsed": false
   },
   "outputs": [
    {
     "data": {
      "image/png": "[encoded data removed]",
      "text/plain": [
       "<Figure size 432x288 with 1 Axes>"
      ]
     },
     "metadata": {},
     "output_type": "display_data"
    }
   ],
   "source": [
    "'''\n",
    "Find for which month most number of unavailability happened. \n",
    "'''\n",
    "\n",
    "'''\n",
    "create dataframe with only the cancelled trips information\n",
    "'''\n",
    "unavailable_trips = uber_data_with_dtime[uber_data_with_dtime['Status'] == \"No Cars Available\"]\n",
    "\n",
    "'''\n",
    "check the count of records for cancellation. \n",
    "'''\n",
    "unavailable_trips.count()\n",
    "\n",
    "'''\n",
    "creating variables for status Types and counts of each type\n",
    "to create a bar chart to understand the variety of statuses. \n",
    "'''\n",
    "count_of_distinct_trips = np.arange(len(unavailable_trips['month_name'].unique()))\n",
    "trip_types = tuple(unavailable_trips['month_name'].unique())\n",
    "trip_types_counts = list(unavailable_trips.groupby(['month_name']).count()['Request id'])\n",
    "\n",
    "'''\n",
    "plot the bar chart\n",
    "'''\n",
    "plt.bar(count_of_distinct_trips, trip_types_counts, align='center', alpha=1)\n",
    "plt.xticks(count_of_distinct_trips, trip_types)\n",
    "plt.ylabel('Number of Trips')\n",
    "plt.title('Cars Unavailability Per month')\n",
    "plt.show()"
   ]
  },
  {
   "cell_type": "code",
   "execution_count": 228,
   "metadata": {
    "collapsed": false
   },
   "outputs": [
    {
     "data": {
      "image/png": "[encoded data removed]",
      "text/plain": [
       "<Figure size 432x288 with 1 Axes>"
      ]
     },
     "metadata": {},
     "output_type": "display_data"
    }
   ],
   "source": [
    "'''\n",
    "Find for day, if any, when in July month, most number of unavailability cases happened\n",
    "'''\n",
    "\n",
    "'''\n",
    "create dataframe with only the cancelled trips information\n",
    "'''\n",
    "unavailable_trips = uber_data_with_dtime[uber_data_with_dtime['Status'] == \"No Cars Available\"]\n",
    "unavailable_trips = unavailable_trips[unavailable_trips['month_name'] == \"July\"]\n",
    "\n",
    "'''\n",
    "check the count of records for cancellation. \n",
    "'''\n",
    "unavailable_trips.count()\n",
    "\n",
    "'''\n",
    "creating variables for status Types and counts of each type\n",
    "to create a bar chart to understand the variety of statuses. \n",
    "'''\n",
    "count_of_distinct_trips = np.arange(len(unavailable_trips['day_name'].unique()))\n",
    "trip_types = tuple(unavailable_trips['day_name'].unique())\n",
    "trip_types_counts = list(unavailable_trips.groupby(['day_name']).count()['Request id'])\n",
    "\n",
    "'''\n",
    "plot the bar chart\n",
    "'''\n",
    "plt.bar(count_of_distinct_trips, trip_types_counts, align='center', alpha=1)\n",
    "plt.xticks(count_of_distinct_trips, trip_types)\n",
    "plt.ylabel('Number of Trips')\n",
    "plt.title('Cars Unavailability Per Day Name (July Month)')\n",
    "plt.show()"
   ]
  },
  {
   "cell_type": "code",
   "execution_count": 230,
   "metadata": {
    "collapsed": false
   },
   "outputs": [
    {
     "data": {
      "image/png": "[encoded data removed]",
      "text/plain": [
       "<Figure size 432x288 with 1 Axes>"
      ]
     },
     "metadata": {},
     "output_type": "display_data"
    }
   ],
   "source": [
    "'''\n",
    "Find for a particular hour in a day, if any, when in July month, most number of unavailability cases happened\n",
    "'''\n",
    "\n",
    "'''\n",
    "create dataframe with only the cancelled trips information\n",
    "'''\n",
    "unavailable_trips = uber_data_with_dtime[uber_data_with_dtime['Status'] == \"No Cars Available\"]\n",
    "unavailable_trips = unavailable_trips[unavailable_trips['month_name'] == \"July\"]\n",
    "unavailable_trips = unavailable_trips[unavailable_trips['day_name'] == \"Monday\"]\n",
    "\n",
    "'''\n",
    "check the count of records for cancellation. \n",
    "'''\n",
    "unavailable_trips.count()\n",
    "\n",
    "'''\n",
    "creating variables for status Types and counts of each type\n",
    "to create a bar chart to understand the variety of statuses. \n",
    "'''\n",
    "count_of_distinct_trips = np.arange(len(unavailable_trips['hour'].unique()))\n",
    "trip_types = tuple(unavailable_trips['hour'].unique())\n",
    "trip_types_counts = list(unavailable_trips.groupby(['hour']).count()['Request id'])\n",
    "\n",
    "'''\n",
    "plot the bar chart\n",
    "'''\n",
    "plt.bar(count_of_distinct_trips, trip_types_counts, align='center', alpha=1)\n",
    "plt.xticks(count_of_distinct_trips, trip_types)\n",
    "plt.ylabel('Number of Trips')\n",
    "plt.title('Cars Unavailability Per Day Hour Number (Monday - July Month)')\n",
    "plt.show()"
   ]
  },
  {
   "cell_type": "code",
   "execution_count": 232,
   "metadata": {
    "collapsed": false
   },
   "outputs": [
    {
     "data": {
      "image/png": "[encoded data removed]",
      "text/plain": [
       "<Figure size 432x288 with 1 Axes>"
      ]
     },
     "metadata": {},
     "output_type": "display_data"
    }
   ],
   "source": [
    "'''\n",
    "Find for a particular hour in a day, if any, when in July month, most number of unavailability cases happened\n",
    "check for trips from City to airport\n",
    "'''\n",
    "\n",
    "'''\n",
    "create dataframe with only the cancelled trips information\n",
    "'''\n",
    "unavailable_trips = uber_data_with_dtime[uber_data_with_dtime['Status'] == \"No Cars Available\"]\n",
    "unavailable_trips = unavailable_trips[unavailable_trips['month_name'] == \"July\"]\n",
    "unavailable_trips = unavailable_trips[unavailable_trips['day_name'] == \"Monday\"]\n",
    "unavailable_trips = unavailable_trips[unavailable_trips['Pickup point'] == \"City\"]\n",
    "\n",
    "'''\n",
    "check the count of records for cancellation. \n",
    "'''\n",
    "unavailable_trips.count()\n",
    "\n",
    "'''\n",
    "creating variables for status Types and counts of each type\n",
    "to create a bar chart to understand the variety of statuses. \n",
    "'''\n",
    "count_of_distinct_trips = np.arange(len(unavailable_trips['hour'].unique()))\n",
    "trip_types = tuple(unavailable_trips['hour'].unique())\n",
    "trip_types_counts = list(unavailable_trips.groupby(['hour']).count()['Request id'])\n",
    "\n",
    "'''\n",
    "plot the bar chart\n",
    "'''\n",
    "plt.bar(count_of_distinct_trips, trip_types_counts, align='center', alpha=1)\n",
    "plt.xticks(count_of_distinct_trips, trip_types)\n",
    "plt.ylabel('Number of Trips')\n",
    "plt.title('Cars Unavailability Per Day Hour Number (Monday - July Month) (City)')\n",
    "plt.show()"
   ]
  },
  {
   "cell_type": "code",
   "execution_count": 233,
   "metadata": {
    "collapsed": false
   },
   "outputs": [
    {
     "data": {
      "image/png": "[encoded data removed]",
      "text/plain": [
       "<Figure size 432x288 with 1 Axes>"
      ]
     },
     "metadata": {},
     "output_type": "display_data"
    }
   ],
   "source": [
    "'''\n",
    "Find for a particular hour in a day, if any, when in July month, most number of unavailability cases happened\n",
    "check for trips from Airport to City\n",
    "'''\n",
    "\n",
    "'''\n",
    "create dataframe with only the cancelled trips information\n",
    "'''\n",
    "unavailable_trips = uber_data_with_dtime[uber_data_with_dtime['Status'] == \"No Cars Available\"]\n",
    "unavailable_trips = unavailable_trips[unavailable_trips['month_name'] == \"July\"]\n",
    "unavailable_trips = unavailable_trips[unavailable_trips['day_name'] == \"Monday\"]\n",
    "unavailable_trips = unavailable_trips[unavailable_trips['Pickup point'] == \"Airport\"]\n",
    "\n",
    "'''\n",
    "check the count of records for cancellation. \n",
    "'''\n",
    "unavailable_trips.count()\n",
    "\n",
    "'''\n",
    "creating variables for status Types and counts of each type\n",
    "to create a bar chart to understand the variety of statuses. \n",
    "'''\n",
    "count_of_distinct_trips = np.arange(len(unavailable_trips['hour'].unique()))\n",
    "trip_types = tuple(unavailable_trips['hour'].unique())\n",
    "trip_types_counts = list(unavailable_trips.groupby(['hour']).count()['Request id'])\n",
    "\n",
    "'''\n",
    "plot the bar chart\n",
    "'''\n",
    "plt.bar(count_of_distinct_trips, trip_types_counts, align='center', alpha=1)\n",
    "plt.xticks(count_of_distinct_trips, trip_types)\n",
    "plt.ylabel('Number of Trips')\n",
    "plt.title('Cars Unavailability Per Day Hour Number (Monday - July Month) (Airport)')\n",
    "plt.show()"
   ]
  },
  {
   "cell_type": "code",
   "execution_count": null,
   "metadata": {
    "collapsed": true
   },
   "outputs": [],
   "source": []
  }
 ],
 "metadata": {
  "kernelspec": {
   "display_name": "Python [3point6]",
   "language": "python",
   "name": "Python [3point6]"
  },
  "language_info": {
   "codemirror_mode": {
    "name": "ipython",
    "version": 3
   },
   "file_extension": ".py",
   "mimetype": "text/x-python",
   "name": "python",
   "nbconvert_exporter": "python",
   "pygments_lexer": "ipython3",
   "version": "3.6.7"
  }
 },
 "nbformat": 4,
 "nbformat_minor": 0
}
